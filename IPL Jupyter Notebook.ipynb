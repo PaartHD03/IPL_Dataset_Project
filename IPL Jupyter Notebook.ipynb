{
 "cells": [
  {
   "cell_type": "markdown",
   "id": "e278f522",
   "metadata": {},
   "source": [
    "# Python Project :"
   ]
  },
  {
   "cell_type": "markdown",
   "id": "4d15630d",
   "metadata": {},
   "source": [
    "Dataset : IPL data"
   ]
  },
  {
   "cell_type": "code",
   "execution_count": 28,
   "id": "43ce3dbf",
   "metadata": {},
   "outputs": [],
   "source": [
    "# Analyse the data and give the answers of below questions :\n",
    "import pandas as pd\n",
    "import seaborn as sns\n",
    "data = pd.read_csv('IPL_Dataset.csv')"
   ]
  },
  {
   "cell_type": "code",
   "execution_count": 7,
   "id": "ff74ab9b",
   "metadata": {},
   "outputs": [
    {
     "data": {
      "text/html": [
       "<div>\n",
       "<style scoped>\n",
       "    .dataframe tbody tr th:only-of-type {\n",
       "        vertical-align: middle;\n",
       "    }\n",
       "\n",
       "    .dataframe tbody tr th {\n",
       "        vertical-align: top;\n",
       "    }\n",
       "\n",
       "    .dataframe thead th {\n",
       "        text-align: right;\n",
       "    }\n",
       "</style>\n",
       "<table border=\"1\" class=\"dataframe\">\n",
       "  <thead>\n",
       "    <tr style=\"text-align: right;\">\n",
       "      <th></th>\n",
       "      <th>match_id</th>\n",
       "      <th>inning</th>\n",
       "      <th>batting_team</th>\n",
       "      <th>bowling_team</th>\n",
       "      <th>over</th>\n",
       "      <th>ball</th>\n",
       "      <th>batsman</th>\n",
       "      <th>non_striker</th>\n",
       "      <th>bowler</th>\n",
       "      <th>is_super_over</th>\n",
       "      <th>...</th>\n",
       "      <th>bye_runs</th>\n",
       "      <th>legbye_runs</th>\n",
       "      <th>noball_runs</th>\n",
       "      <th>penalty_runs</th>\n",
       "      <th>batsman_runs</th>\n",
       "      <th>extra_runs</th>\n",
       "      <th>total_runs</th>\n",
       "      <th>player_dismissed</th>\n",
       "      <th>dismissal_kind</th>\n",
       "      <th>fielder</th>\n",
       "    </tr>\n",
       "  </thead>\n",
       "  <tbody>\n",
       "    <tr>\n",
       "      <th>0</th>\n",
       "      <td>1</td>\n",
       "      <td>1</td>\n",
       "      <td>Sunrisers Hyderabad</td>\n",
       "      <td>Royal Challengers Bangalore</td>\n",
       "      <td>1</td>\n",
       "      <td>1</td>\n",
       "      <td>DA Warner</td>\n",
       "      <td>S Dhawan</td>\n",
       "      <td>TS Mills</td>\n",
       "      <td>0</td>\n",
       "      <td>...</td>\n",
       "      <td>0</td>\n",
       "      <td>0</td>\n",
       "      <td>0</td>\n",
       "      <td>0</td>\n",
       "      <td>0</td>\n",
       "      <td>0</td>\n",
       "      <td>0</td>\n",
       "      <td>NaN</td>\n",
       "      <td>NaN</td>\n",
       "      <td>NaN</td>\n",
       "    </tr>\n",
       "    <tr>\n",
       "      <th>1</th>\n",
       "      <td>1</td>\n",
       "      <td>1</td>\n",
       "      <td>Sunrisers Hyderabad</td>\n",
       "      <td>Royal Challengers Bangalore</td>\n",
       "      <td>1</td>\n",
       "      <td>2</td>\n",
       "      <td>DA Warner</td>\n",
       "      <td>S Dhawan</td>\n",
       "      <td>TS Mills</td>\n",
       "      <td>0</td>\n",
       "      <td>...</td>\n",
       "      <td>0</td>\n",
       "      <td>0</td>\n",
       "      <td>0</td>\n",
       "      <td>0</td>\n",
       "      <td>0</td>\n",
       "      <td>0</td>\n",
       "      <td>0</td>\n",
       "      <td>NaN</td>\n",
       "      <td>NaN</td>\n",
       "      <td>NaN</td>\n",
       "    </tr>\n",
       "    <tr>\n",
       "      <th>2</th>\n",
       "      <td>1</td>\n",
       "      <td>1</td>\n",
       "      <td>Sunrisers Hyderabad</td>\n",
       "      <td>Royal Challengers Bangalore</td>\n",
       "      <td>1</td>\n",
       "      <td>3</td>\n",
       "      <td>DA Warner</td>\n",
       "      <td>S Dhawan</td>\n",
       "      <td>TS Mills</td>\n",
       "      <td>0</td>\n",
       "      <td>...</td>\n",
       "      <td>0</td>\n",
       "      <td>0</td>\n",
       "      <td>0</td>\n",
       "      <td>0</td>\n",
       "      <td>4</td>\n",
       "      <td>0</td>\n",
       "      <td>4</td>\n",
       "      <td>NaN</td>\n",
       "      <td>NaN</td>\n",
       "      <td>NaN</td>\n",
       "    </tr>\n",
       "    <tr>\n",
       "      <th>3</th>\n",
       "      <td>1</td>\n",
       "      <td>1</td>\n",
       "      <td>Sunrisers Hyderabad</td>\n",
       "      <td>Royal Challengers Bangalore</td>\n",
       "      <td>1</td>\n",
       "      <td>4</td>\n",
       "      <td>DA Warner</td>\n",
       "      <td>S Dhawan</td>\n",
       "      <td>TS Mills</td>\n",
       "      <td>0</td>\n",
       "      <td>...</td>\n",
       "      <td>0</td>\n",
       "      <td>0</td>\n",
       "      <td>0</td>\n",
       "      <td>0</td>\n",
       "      <td>0</td>\n",
       "      <td>0</td>\n",
       "      <td>0</td>\n",
       "      <td>NaN</td>\n",
       "      <td>NaN</td>\n",
       "      <td>NaN</td>\n",
       "    </tr>\n",
       "    <tr>\n",
       "      <th>4</th>\n",
       "      <td>1</td>\n",
       "      <td>1</td>\n",
       "      <td>Sunrisers Hyderabad</td>\n",
       "      <td>Royal Challengers Bangalore</td>\n",
       "      <td>1</td>\n",
       "      <td>5</td>\n",
       "      <td>DA Warner</td>\n",
       "      <td>S Dhawan</td>\n",
       "      <td>TS Mills</td>\n",
       "      <td>0</td>\n",
       "      <td>...</td>\n",
       "      <td>0</td>\n",
       "      <td>0</td>\n",
       "      <td>0</td>\n",
       "      <td>0</td>\n",
       "      <td>0</td>\n",
       "      <td>2</td>\n",
       "      <td>2</td>\n",
       "      <td>NaN</td>\n",
       "      <td>NaN</td>\n",
       "      <td>NaN</td>\n",
       "    </tr>\n",
       "    <tr>\n",
       "      <th>...</th>\n",
       "      <td>...</td>\n",
       "      <td>...</td>\n",
       "      <td>...</td>\n",
       "      <td>...</td>\n",
       "      <td>...</td>\n",
       "      <td>...</td>\n",
       "      <td>...</td>\n",
       "      <td>...</td>\n",
       "      <td>...</td>\n",
       "      <td>...</td>\n",
       "      <td>...</td>\n",
       "      <td>...</td>\n",
       "      <td>...</td>\n",
       "      <td>...</td>\n",
       "      <td>...</td>\n",
       "      <td>...</td>\n",
       "      <td>...</td>\n",
       "      <td>...</td>\n",
       "      <td>...</td>\n",
       "      <td>...</td>\n",
       "      <td>...</td>\n",
       "    </tr>\n",
       "    <tr>\n",
       "      <th>295</th>\n",
       "      <td>2</td>\n",
       "      <td>1</td>\n",
       "      <td>Mumbai Indians</td>\n",
       "      <td>Rising Pune Supergiant</td>\n",
       "      <td>8</td>\n",
       "      <td>5</td>\n",
       "      <td>N Rana</td>\n",
       "      <td>AT Rayudu</td>\n",
       "      <td>BA Stokes</td>\n",
       "      <td>0</td>\n",
       "      <td>...</td>\n",
       "      <td>0</td>\n",
       "      <td>0</td>\n",
       "      <td>0</td>\n",
       "      <td>0</td>\n",
       "      <td>0</td>\n",
       "      <td>0</td>\n",
       "      <td>0</td>\n",
       "      <td>NaN</td>\n",
       "      <td>NaN</td>\n",
       "      <td>NaN</td>\n",
       "    </tr>\n",
       "    <tr>\n",
       "      <th>296</th>\n",
       "      <td>2</td>\n",
       "      <td>1</td>\n",
       "      <td>Mumbai Indians</td>\n",
       "      <td>Rising Pune Supergiant</td>\n",
       "      <td>8</td>\n",
       "      <td>6</td>\n",
       "      <td>N Rana</td>\n",
       "      <td>AT Rayudu</td>\n",
       "      <td>BA Stokes</td>\n",
       "      <td>0</td>\n",
       "      <td>...</td>\n",
       "      <td>0</td>\n",
       "      <td>0</td>\n",
       "      <td>0</td>\n",
       "      <td>0</td>\n",
       "      <td>0</td>\n",
       "      <td>0</td>\n",
       "      <td>0</td>\n",
       "      <td>NaN</td>\n",
       "      <td>NaN</td>\n",
       "      <td>NaN</td>\n",
       "    </tr>\n",
       "    <tr>\n",
       "      <th>297</th>\n",
       "      <td>2</td>\n",
       "      <td>1</td>\n",
       "      <td>Mumbai Indians</td>\n",
       "      <td>Rising Pune Supergiant</td>\n",
       "      <td>9</td>\n",
       "      <td>1</td>\n",
       "      <td>AT Rayudu</td>\n",
       "      <td>N Rana</td>\n",
       "      <td>A Zampa</td>\n",
       "      <td>0</td>\n",
       "      <td>...</td>\n",
       "      <td>0</td>\n",
       "      <td>0</td>\n",
       "      <td>0</td>\n",
       "      <td>0</td>\n",
       "      <td>1</td>\n",
       "      <td>0</td>\n",
       "      <td>1</td>\n",
       "      <td>NaN</td>\n",
       "      <td>NaN</td>\n",
       "      <td>NaN</td>\n",
       "    </tr>\n",
       "    <tr>\n",
       "      <th>298</th>\n",
       "      <td>2</td>\n",
       "      <td>1</td>\n",
       "      <td>Mumbai Indians</td>\n",
       "      <td>Rising Pune Supergiant</td>\n",
       "      <td>9</td>\n",
       "      <td>2</td>\n",
       "      <td>N Rana</td>\n",
       "      <td>AT Rayudu</td>\n",
       "      <td>A Zampa</td>\n",
       "      <td>0</td>\n",
       "      <td>...</td>\n",
       "      <td>0</td>\n",
       "      <td>0</td>\n",
       "      <td>0</td>\n",
       "      <td>0</td>\n",
       "      <td>0</td>\n",
       "      <td>0</td>\n",
       "      <td>0</td>\n",
       "      <td>NaN</td>\n",
       "      <td>NaN</td>\n",
       "      <td>NaN</td>\n",
       "    </tr>\n",
       "    <tr>\n",
       "      <th>299</th>\n",
       "      <td>2</td>\n",
       "      <td>1</td>\n",
       "      <td>Mumbai Indians</td>\n",
       "      <td>Rising Pune Supergiant</td>\n",
       "      <td>9</td>\n",
       "      <td>3</td>\n",
       "      <td>N Rana</td>\n",
       "      <td>AT Rayudu</td>\n",
       "      <td>A Zampa</td>\n",
       "      <td>0</td>\n",
       "      <td>...</td>\n",
       "      <td>0</td>\n",
       "      <td>0</td>\n",
       "      <td>0</td>\n",
       "      <td>0</td>\n",
       "      <td>6</td>\n",
       "      <td>0</td>\n",
       "      <td>6</td>\n",
       "      <td>NaN</td>\n",
       "      <td>NaN</td>\n",
       "      <td>NaN</td>\n",
       "    </tr>\n",
       "  </tbody>\n",
       "</table>\n",
       "<p>300 rows × 21 columns</p>\n",
       "</div>"
      ],
      "text/plain": [
       "     match_id  inning         batting_team                 bowling_team  over  \\\n",
       "0           1       1  Sunrisers Hyderabad  Royal Challengers Bangalore     1   \n",
       "1           1       1  Sunrisers Hyderabad  Royal Challengers Bangalore     1   \n",
       "2           1       1  Sunrisers Hyderabad  Royal Challengers Bangalore     1   \n",
       "3           1       1  Sunrisers Hyderabad  Royal Challengers Bangalore     1   \n",
       "4           1       1  Sunrisers Hyderabad  Royal Challengers Bangalore     1   \n",
       "..        ...     ...                  ...                          ...   ...   \n",
       "295         2       1       Mumbai Indians       Rising Pune Supergiant     8   \n",
       "296         2       1       Mumbai Indians       Rising Pune Supergiant     8   \n",
       "297         2       1       Mumbai Indians       Rising Pune Supergiant     9   \n",
       "298         2       1       Mumbai Indians       Rising Pune Supergiant     9   \n",
       "299         2       1       Mumbai Indians       Rising Pune Supergiant     9   \n",
       "\n",
       "     ball    batsman non_striker     bowler  is_super_over  ...  bye_runs  \\\n",
       "0       1  DA Warner    S Dhawan   TS Mills              0  ...         0   \n",
       "1       2  DA Warner    S Dhawan   TS Mills              0  ...         0   \n",
       "2       3  DA Warner    S Dhawan   TS Mills              0  ...         0   \n",
       "3       4  DA Warner    S Dhawan   TS Mills              0  ...         0   \n",
       "4       5  DA Warner    S Dhawan   TS Mills              0  ...         0   \n",
       "..    ...        ...         ...        ...            ...  ...       ...   \n",
       "295     5     N Rana   AT Rayudu  BA Stokes              0  ...         0   \n",
       "296     6     N Rana   AT Rayudu  BA Stokes              0  ...         0   \n",
       "297     1  AT Rayudu      N Rana    A Zampa              0  ...         0   \n",
       "298     2     N Rana   AT Rayudu    A Zampa              0  ...         0   \n",
       "299     3     N Rana   AT Rayudu    A Zampa              0  ...         0   \n",
       "\n",
       "     legbye_runs  noball_runs  penalty_runs  batsman_runs  extra_runs  \\\n",
       "0              0            0             0             0           0   \n",
       "1              0            0             0             0           0   \n",
       "2              0            0             0             4           0   \n",
       "3              0            0             0             0           0   \n",
       "4              0            0             0             0           2   \n",
       "..           ...          ...           ...           ...         ...   \n",
       "295            0            0             0             0           0   \n",
       "296            0            0             0             0           0   \n",
       "297            0            0             0             1           0   \n",
       "298            0            0             0             0           0   \n",
       "299            0            0             0             6           0   \n",
       "\n",
       "     total_runs  player_dismissed dismissal_kind fielder  \n",
       "0             0               NaN            NaN     NaN  \n",
       "1             0               NaN            NaN     NaN  \n",
       "2             4               NaN            NaN     NaN  \n",
       "3             0               NaN            NaN     NaN  \n",
       "4             2               NaN            NaN     NaN  \n",
       "..          ...               ...            ...     ...  \n",
       "295           0               NaN            NaN     NaN  \n",
       "296           0               NaN            NaN     NaN  \n",
       "297           1               NaN            NaN     NaN  \n",
       "298           0               NaN            NaN     NaN  \n",
       "299           6               NaN            NaN     NaN  \n",
       "\n",
       "[300 rows x 21 columns]"
      ]
     },
     "execution_count": 7,
     "metadata": {},
     "output_type": "execute_result"
    }
   ],
   "source": [
    "data.head(300) # to inspect data"
   ]
  },
  {
   "cell_type": "markdown",
   "id": "1c62c403",
   "metadata": {},
   "source": [
    "1. What is the total number of runs scored by each batting team?"
   ]
  },
  {
   "cell_type": "code",
   "execution_count": 4,
   "id": "019d97ca",
   "metadata": {},
   "outputs": [
    {
     "name": "stdout",
     "output_type": "stream",
     "text": [
      "                   Batting Team  Total Runs\n",
      "0           Chennai Super Kings       20899\n",
      "1               Deccan Chargers       11463\n",
      "2              Delhi Daredevils       21953\n",
      "3                 Gujarat Lions        4862\n",
      "4               Kings XI Punjab       23068\n",
      "5          Kochi Tuskers Kerala        1901\n",
      "6         Kolkata Knight Riders       21965\n",
      "7                Mumbai Indians       24521\n",
      "8                 Pune Warriors        6358\n",
      "9              Rajasthan Royals       17703\n",
      "10       Rising Pune Supergiant        2470\n",
      "11      Rising Pune Supergiants        2063\n",
      "12  Royal Challengers Bangalore       23436\n",
      "13          Sunrisers Hyderabad       11652\n"
     ]
    }
   ],
   "source": [
    "# Group by 'batting_team' and sum the 'total_runs'\n",
    "total_runs_by_team = data.groupby('batting_team')['total_runs'].sum().reset_index()\n",
    "\n",
    "# Rename columns for clarity\n",
    "total_runs_by_team.columns = ['Batting Team', 'Total Runs']\n",
    "\n",
    "# Display the result\n",
    "print(total_runs_by_team)\n"
   ]
  },
  {
   "cell_type": "markdown",
   "id": "49d0ee27",
   "metadata": {},
   "source": [
    "2. How many wides have been bowled by each bowling team?"
   ]
  },
  {
   "cell_type": "code",
   "execution_count": 10,
   "id": "a06c30c3",
   "metadata": {},
   "outputs": [
    {
     "name": "stdout",
     "output_type": "stream",
     "text": [
      "                   Bowling Team  Wide Runs\n",
      "0           Chennai Super Kings        526\n",
      "1               Deccan Chargers        328\n",
      "2              Delhi Daredevils        614\n",
      "3                 Gujarat Lions        107\n",
      "4               Kings XI Punjab        668\n",
      "5          Kochi Tuskers Kerala         56\n",
      "6         Kolkata Knight Riders        658\n",
      "7                Mumbai Indians        786\n",
      "8                 Pune Warriors        174\n",
      "9              Rajasthan Royals        586\n",
      "10       Rising Pune Supergiant         69\n",
      "11      Rising Pune Supergiants         77\n",
      "12  Royal Challengers Bangalore        725\n",
      "13          Sunrisers Hyderabad        268\n"
     ]
    }
   ],
   "source": [
    "# Filter out rows where wides were bowled\n",
    "wides_data = data[data['extra_runs'] > 0]\n",
    "\n",
    "# Group by 'bowling_team' and count the 'wide_runs'\n",
    "wides_by_team = wides_data.groupby('bowling_team')['wide_runs'].sum().reset_index()\n",
    "wides_by_team.columns = ['Bowling Team', 'Wide Runs']\n",
    "print(wides_by_team)"
   ]
  },
  {
   "cell_type": "markdown",
   "id": "b4b2c7fb",
   "metadata": {},
   "source": [
    "3. What is the average number of runs scored per inning by each team?"
   ]
  },
  {
   "cell_type": "code",
   "execution_count": 11,
   "id": "3f2461b7",
   "metadata": {},
   "outputs": [
    {
     "name": "stdout",
     "output_type": "stream",
     "text": [
      "                   Batting Team  Average Runs Per Inning\n",
      "0           Chennai Super Kings               158.325758\n",
      "1               Deccan Chargers               152.840000\n",
      "2              Delhi Daredevils               148.331081\n",
      "3                 Gujarat Lions               156.838710\n",
      "4               Kings XI Punjab               153.786667\n",
      "5          Kochi Tuskers Kerala               135.785714\n",
      "6         Kolkata Knight Riders               146.433333\n",
      "7                Mumbai Indians               155.196203\n",
      "8                 Pune Warriors               141.288889\n",
      "9              Rajasthan Royals               147.525000\n",
      "10       Rising Pune Supergiant               154.375000\n",
      "11      Rising Pune Supergiants               147.357143\n",
      "12  Royal Challengers Bangalore               152.181818\n",
      "13          Sunrisers Hyderabad               151.324675\n"
     ]
    }
   ],
   "source": [
    "# Group by 'batting_team' and 'match_id', then sum the 'total_runs'\n",
    "runs_per_inning = data.groupby(['match_id', 'inning', 'batting_team'])['total_runs'].sum().reset_index()\n",
    "\n",
    "# Calculate average runs per inning for each team\n",
    "average_runs_per_inning = runs_per_inning.groupby('batting_team')['total_runs'].mean().reset_index()\n",
    "average_runs_per_inning.columns = ['Batting Team', 'Average Runs Per Inning']\n",
    "print(average_runs_per_inning)"
   ]
  },
  {
   "cell_type": "markdown",
   "id": "1e183993",
   "metadata": {},
   "source": [
    "4. Which batsman has scored the highest number of runs?"
   ]
  },
  {
   "cell_type": "code",
   "execution_count": 14,
   "id": "2be341fe",
   "metadata": {},
   "outputs": [
    {
     "name": "stdout",
     "output_type": "stream",
     "text": [
      "batsman         SK Raina\n",
      "batsman_runs        4548\n",
      "Name: 374, dtype: object\n"
     ]
    }
   ],
   "source": [
    "# Group by 'batsman' and sum the 'batsman_runs'\n",
    "runs_by_batsman = data.groupby('batsman')['batsman_runs'].sum().reset_index()\n",
    "\n",
    "# Find the batsman with the highest runs\n",
    "top_batsman = runs_by_batsman.loc[runs_by_batsman['batsman_runs'].idxmax()]\n",
    "print(top_batsman)"
   ]
  },
  {
   "cell_type": "markdown",
   "id": "07c9f4f3",
   "metadata": {},
   "source": [
    "5. How many dismissals have occurred of each dismissal kind?"
   ]
  },
  {
   "cell_type": "code",
   "execution_count": 16,
   "id": "e37497d5",
   "metadata": {},
   "outputs": [
    {
     "name": "stdout",
     "output_type": "stream",
     "text": [
      "          Dismissal Kind  Count\n",
      "0                 caught   4373\n",
      "1                 bowled   1382\n",
      "2                run out    755\n",
      "3                    lbw    455\n",
      "4                stumped    243\n",
      "5      caught and bowled    211\n",
      "6           retired hurt      9\n",
      "7             hit wicket      9\n",
      "8  obstructing the field      1\n"
     ]
    }
   ],
   "source": [
    "# Filter out rows where a player was dismissed\n",
    "dismissals = data[data['player_dismissed'].notna()]\n",
    "\n",
    "# Group by 'dismissal_kind' and count occurrences\n",
    "dismissals_by_kind = dismissals['dismissal_kind'].value_counts().reset_index()\n",
    "dismissals_by_kind.columns = ['Dismissal Kind', 'Count']\n",
    "print(dismissals_by_kind)"
   ]
  },
  {
   "cell_type": "markdown",
   "id": "4bcd9518",
   "metadata": {},
   "source": [
    "6. What is the total runs scored by each over?"
   ]
  },
  {
   "cell_type": "code",
   "execution_count": 17,
   "id": "b64b6ea9",
   "metadata": {},
   "outputs": [
    {
     "name": "stdout",
     "output_type": "stream",
     "text": [
      "    Over  Total Runs\n",
      "0      1        7733\n",
      "1      2        8993\n",
      "2      3        9852\n",
      "3      4       10207\n",
      "4      5       10227\n",
      "5      6       10397\n",
      "6      7        8413\n",
      "7      8        8966\n",
      "8      9        9247\n",
      "9     10        9047\n",
      "10    11        9456\n",
      "11    12        9694\n",
      "12    13        9713\n",
      "13    14        9900\n",
      "14    15       10240\n",
      "15    16       10397\n",
      "16    17       10817\n",
      "17    18       10899\n",
      "18    19       10469\n",
      "19    20        9647\n"
     ]
    }
   ],
   "source": [
    "# Group by 'over' and sum the 'total_runs'\n",
    "runs_by_over = data.groupby('over')['total_runs'].sum().reset_index()\n",
    "runs_by_over.columns = ['Over', 'Total Runs']\n",
    "print(runs_by_over)"
   ]
  },
  {
   "cell_type": "markdown",
   "id": "6fc7600a",
   "metadata": {},
   "source": [
    "7. Which bowler has taken the most wickets?"
   ]
  },
  {
   "cell_type": "code",
   "execution_count": 18,
   "id": "0621d54b",
   "metadata": {},
   "outputs": [
    {
     "name": "stdout",
     "output_type": "stream",
     "text": [
      "Bowler     SL Malinga\n",
      "Wickets           170\n",
      "Name: 259, dtype: object\n"
     ]
    }
   ],
   "source": [
    "# Filter out rows where a player was dismissed\n",
    "wickets = data[data['player_dismissed'].notna()]\n",
    "\n",
    "# Group by 'bowler' and count dismissals\n",
    "wickets_by_bowler = wickets.groupby('bowler')['player_dismissed'].count().reset_index()\n",
    "wickets_by_bowler.columns = ['Bowler', 'Wickets']\n",
    "\n",
    "# Find the bowler with the most wickets\n",
    "top_bowler = wickets_by_bowler.loc[wickets_by_bowler['Wickets'].idxmax()]\n",
    "print(top_bowler)"
   ]
  },
  {
   "cell_type": "markdown",
   "id": "545ad18b",
   "metadata": {},
   "source": [
    "8. How many super overs have been played in total?"
   ]
  },
  {
   "cell_type": "code",
   "execution_count": 19,
   "id": "bbbe5484",
   "metadata": {},
   "outputs": [
    {
     "name": "stdout",
     "output_type": "stream",
     "text": [
      "Total Super Overs: 7\n"
     ]
    }
   ],
   "source": [
    "# Count rows where 'is_super_over' is 1\n",
    "super_overs_count = data[data['is_super_over'] == 1]['match_id'].nunique()\n",
    "print(f'Total Super Overs: {super_overs_count}')"
   ]
  },
  {
   "cell_type": "markdown",
   "id": "9601b788",
   "metadata": {},
   "source": [
    "9. What is the average number of extras (wide runs, bye runs, legbye runs, noball runs, penalty runs) conceded per inning by each bowling team?"
   ]
  },
  {
   "cell_type": "code",
   "execution_count": 20,
   "id": "f653c95d",
   "metadata": {},
   "outputs": [
    {
     "name": "stdout",
     "output_type": "stream",
     "text": [
      "                   Bowling Team  Average Extras Per Inning\n",
      "0           Chennai Super Kings                   7.590909\n",
      "1               Deccan Chargers                   8.786667\n",
      "2              Delhi Daredevils                   8.074830\n",
      "3                 Gujarat Lions                   6.064516\n",
      "4               Kings XI Punjab                   8.200000\n",
      "5          Kochi Tuskers Kerala                   7.857143\n",
      "6         Kolkata Knight Riders                   8.026667\n",
      "7                Mumbai Indians                   8.841772\n",
      "8                 Pune Warriors                   7.282609\n",
      "9              Rajasthan Royals                   8.743802\n",
      "10       Rising Pune Supergiant                   6.937500\n",
      "11      Rising Pune Supergiants                   7.714286\n",
      "12  Royal Challengers Bangalore                   8.555556\n",
      "13          Sunrisers Hyderabad                   6.324675\n"
     ]
    }
   ],
   "source": [
    "# Calculate total extras\n",
    "data['total_extras'] = data[['wide_runs', 'bye_runs', 'legbye_runs', 'noball_runs', 'penalty_runs']].sum(axis=1)\n",
    "\n",
    "# Group by 'match_id', 'inning', 'bowling_team' and sum the 'total_extras'\n",
    "extras_per_inning = data.groupby(['match_id', 'inning', 'bowling_team'])['total_extras'].sum().reset_index()\n",
    "\n",
    "# Calculate average extras per inning for each bowling team\n",
    "average_extras_per_inning = extras_per_inning.groupby('bowling_team')['total_extras'].mean().reset_index()\n",
    "average_extras_per_inning.columns = ['Bowling Team', 'Average Extras Per Inning']\n",
    "print(average_extras_per_inning)"
   ]
  },
  {
   "cell_type": "markdown",
   "id": "6d69408f",
   "metadata": {},
   "source": [
    "10. How many runs have been scored by each batsman-bowler pair?"
   ]
  },
  {
   "cell_type": "code",
   "execution_count": 21,
   "id": "8ebcd6b6",
   "metadata": {},
   "outputs": [
    {
     "name": "stdout",
     "output_type": "stream",
     "text": [
      "              Batsman           Bowler  Total Runs\n",
      "0      A Ashish Reddy          A Nehra           7\n",
      "1      A Ashish Reddy         AB Dinda           9\n",
      "2      A Ashish Reddy       AD Mathews          25\n",
      "3      A Ashish Reddy       AD Russell           4\n",
      "4      A Ashish Reddy    Anureet Singh           2\n",
      "...               ...              ...         ...\n",
      "17146          Z Khan        SR Watson           3\n",
      "17147          Z Khan  Shakib Al Hasan           3\n",
      "17148          Z Khan    Sohail Tanvir           3\n",
      "17149          Z Khan        VRV Singh           0\n",
      "17150          Z Khan        YK Pathan           1\n",
      "\n",
      "[17151 rows x 3 columns]\n"
     ]
    }
   ],
   "source": [
    "# Group by 'batsman' and 'bowler', and sum the 'batsman_runs'\n",
    "runs_by_pair = data.groupby(['batsman', 'bowler'])['batsman_runs'].sum().reset_index()\n",
    "runs_by_pair.columns = ['Batsman', 'Bowler', 'Total Runs']\n",
    "print(runs_by_pair)"
   ]
  },
  {
   "cell_type": "markdown",
   "id": "332d376b",
   "metadata": {},
   "source": [
    "11. What is the most common dismissal kind?"
   ]
  },
  {
   "cell_type": "code",
   "execution_count": 22,
   "id": "77ce51b3",
   "metadata": {},
   "outputs": [
    {
     "name": "stdout",
     "output_type": "stream",
     "text": [
      "Most Common Dismissal: caught\n"
     ]
    }
   ],
   "source": [
    "# Count occurrences of each dismissal kind\n",
    "most_common_dismissal = dismissals['dismissal_kind'].value_counts().idxmax()\n",
    "print(f'Most Common Dismissal: {most_common_dismissal}')"
   ]
  },
  {
   "cell_type": "markdown",
   "id": "d2fe093f",
   "metadata": {},
   "source": [
    "12. How many matches have been played by each batting team?"
   ]
  },
  {
   "cell_type": "code",
   "execution_count": 23,
   "id": "812031f7",
   "metadata": {},
   "outputs": [
    {
     "name": "stdout",
     "output_type": "stream",
     "text": [
      "                   Batting Team  Matches Played\n",
      "0           Chennai Super Kings             131\n",
      "1               Deccan Chargers              75\n",
      "2              Delhi Daredevils             147\n",
      "3                 Gujarat Lions              30\n",
      "4               Kings XI Punjab             148\n",
      "5          Kochi Tuskers Kerala              14\n",
      "6         Kolkata Knight Riders             148\n",
      "7                Mumbai Indians             157\n",
      "8                 Pune Warriors              45\n",
      "9              Rajasthan Royals             117\n",
      "10       Rising Pune Supergiant              16\n",
      "11      Rising Pune Supergiants              14\n",
      "12  Royal Challengers Bangalore             152\n",
      "13          Sunrisers Hyderabad              76\n"
     ]
    }
   ],
   "source": [
    "# Group by 'batting_team' and count unique 'match_id'\n",
    "matches_by_team = data.groupby('batting_team')['match_id'].nunique().reset_index()\n",
    "matches_by_team.columns = ['Batting Team', 'Matches Played']\n",
    "print(matches_by_team)"
   ]
  },
  {
   "cell_type": "markdown",
   "id": "80eba13e",
   "metadata": {},
   "source": [
    "13. What is the average number of runs scored in each over?"
   ]
  },
  {
   "cell_type": "code",
   "execution_count": 24,
   "id": "829d0277",
   "metadata": {},
   "outputs": [
    {
     "name": "stdout",
     "output_type": "stream",
     "text": [
      "    Over  Average Runs\n",
      "0      1      6.022586\n",
      "1      2      7.081102\n",
      "2      3      7.763593\n",
      "3      4      8.043341\n",
      "4      5      8.059102\n",
      "5      6      8.212480\n",
      "6      7      6.661124\n",
      "7      8      7.098971\n",
      "8      9      7.356404\n",
      "9     10      7.197295\n",
      "10    11      7.564800\n",
      "11    12      7.798874\n",
      "12    13      7.852061\n",
      "13    14      8.035714\n",
      "14    15      8.448845\n",
      "15    16      8.715004\n",
      "16    17      9.253208\n",
      "17    18      9.594190\n",
      "18    19      9.684551\n",
      "19    20      9.965909\n"
     ]
    }
   ],
   "source": [
    "# Group by 'match_id', 'inning', 'over' and sum the 'total_runs'\n",
    "runs_per_over = data.groupby(['match_id', 'inning', 'over'])['total_runs'].sum().reset_index()\n",
    "\n",
    "# Calculate average runs per over\n",
    "average_runs_per_over = runs_per_over.groupby('over')['total_runs'].mean().reset_index()\n",
    "average_runs_per_over.columns = ['Over', 'Average Runs']\n",
    "print(average_runs_per_over)"
   ]
  },
  {
   "cell_type": "markdown",
   "id": "2cb2e6cf",
   "metadata": {},
   "source": [
    "14. Which fielder has been involved in the most dismissals?"
   ]
  },
  {
   "cell_type": "code",
   "execution_count": 31,
   "id": "9552f9c1",
   "metadata": {},
   "outputs": [
    {
     "name": "stdout",
     "output_type": "stream",
     "text": [
      "Fielder       KD Karthik\n",
      "Dismissals           127\n",
      "Name: 0, dtype: object\n"
     ]
    }
   ],
   "source": [
    "# Filter out rows where a player was dismissed and 'fielder' is not NaN\n",
    "dismissals_with_fielder = dismissals[dismissals['fielder'].notna()]\n",
    "\n",
    "# Group by 'fielder' and count occurrences\n",
    "dismissals_by_fielder = dismissals_with_fielder['fielder'].value_counts().reset_index()\n",
    "dismissals_by_fielder.columns = ['Fielder', 'Dismissals']\n",
    "top_fielder = dismissals_by_fielder.loc[dismissals_by_fielder['Dismissals'].idxmax()]\n",
    "print(top_fielder)"
   ]
  },
  {
   "cell_type": "markdown",
   "id": "83585620",
   "metadata": {},
   "source": [
    "15. How does the number of runs scored vary with the over number?"
   ]
  },
  {
   "cell_type": "code",
   "execution_count": 32,
   "id": "e1a74923",
   "metadata": {},
   "outputs": [
    {
     "name": "stdout",
     "output_type": "stream",
     "text": [
      "    Over  Total Runs\n",
      "0      1        7733\n",
      "1      2        8993\n",
      "2      3        9852\n",
      "3      4       10207\n",
      "4      5       10227\n",
      "5      6       10397\n",
      "6      7        8413\n",
      "7      8        8966\n",
      "8      9        9247\n",
      "9     10        9047\n",
      "10    11        9456\n",
      "11    12        9694\n",
      "12    13        9713\n",
      "13    14        9900\n",
      "14    15       10240\n",
      "15    16       10397\n",
      "16    17       10817\n",
      "17    18       10899\n",
      "18    19       10469\n",
      "19    20        9647\n"
     ]
    }
   ],
   "source": [
    "# Group by 'over' and sum the 'total_runs'\n",
    "runs_by_over = data.groupby('over')['total_runs'].sum().reset_index()\n",
    "runs_by_over.columns = ['Over', 'Total Runs']\n",
    "print(runs_by_over)"
   ]
  },
  {
   "cell_type": "markdown",
   "id": "cea56c92",
   "metadata": {},
   "source": [
    "16. how is the relationship between the number of runs scored and the number of extras conceded?"
   ]
  },
  {
   "cell_type": "code",
   "execution_count": 29,
   "id": "0580c1fd",
   "metadata": {},
   "outputs": [
    {
     "data": {
      "image/png": "[encoded data removed]",
      "text/plain": [
       "<Figure size 640x480 with 1 Axes>"
      ]
     },
     "metadata": {},
     "output_type": "display_data"
    }
   ],
   "source": [
    "import seaborn as sns\n",
    "import matplotlib.pyplot as plt\n",
    "\n",
    "# Calculate total extras\n",
    "data['total_extras'] = data[['wide_runs', 'bye_runs', 'legbye_runs', 'noball_runs', 'penalty_runs']].sum(axis=1)\n",
    "\n",
    "# Scatter plot of total runs vs total extras\n",
    "sns.scatterplot(x='total_extras', y='total_runs', data=data)\n",
    "plt.title('Total Runs vs Total Extras')\n",
    "plt.xlabel('Total Extras')\n",
    "plt.ylabel('Total Runs')\n",
    "plt.show()"
   ]
  },
  {
   "cell_type": "markdown",
   "id": "9841ec3c",
   "metadata": {},
   "source": [
    "17. Are there any notable trends in the distribution of runs scored by batting teams across innings?"
   ]
  },
  {
   "cell_type": "code",
   "execution_count": 30,
   "id": "083097ff",
   "metadata": {},
   "outputs": [
    {
     "data": {
      "image/png": "[encoded data removed]",
      "text/plain": [
       "<Figure size 640x480 with 1 Axes>"
      ]
     },
     "metadata": {},
     "output_type": "display_data"
    }
   ],
   "source": [
    "# Group by 'batting_team' and 'inning', and sum the 'total_runs'\n",
    "runs_by_inning = data.groupby(['batting_team', 'inning'])['total_runs'].sum().reset_index()\n",
    "\n",
    "# Boxplot of runs by inning\n",
    "sns.boxplot(x='inning', y='total_runs', data=runs_by_inning)\n",
    "plt.title('Runs Distribution by Inning')\n",
    "plt.xlabel('Inning')\n",
    "plt.ylabel('Total Runs')\n",
    "plt.show()"
   ]
  },
  {
   "cell_type": "markdown",
   "id": "d1010f52",
   "metadata": {},
   "source": [
    "18. Which batting team has the highest average runs per match?"
   ]
  },
  {
   "cell_type": "code",
   "execution_count": 33,
   "id": "9885155a",
   "metadata": {},
   "outputs": [
    {
     "name": "stdout",
     "output_type": "stream",
     "text": [
      "Batting Team              Gujarat Lions\n",
      "Average Runs Per Match       162.066667\n",
      "Name: 3, dtype: object\n"
     ]
    }
   ],
   "source": [
    "# Group by 'match_id', 'batting_team' and sum the 'total_runs'\n",
    "runs_per_match = data.groupby(['match_id', 'batting_team'])['total_runs'].sum().reset_index()\n",
    "\n",
    "# Calculate average runs per match for each team\n",
    "average_runs_per_match = runs_per_match.groupby('batting_team')['total_runs'].mean().reset_index()\n",
    "average_runs_per_match.columns = ['Batting Team', 'Average Runs Per Match']\n",
    "top_team = average_runs_per_match.loc[average_runs_per_match['Average Runs Per Match'].idxmax()]\n",
    "print(top_team)"
   ]
  },
  {
   "cell_type": "markdown",
   "id": "4dd899bd",
   "metadata": {},
   "source": [
    "19. What is the total runs scored by each batsman?"
   ]
  },
  {
   "cell_type": "code",
   "execution_count": 34,
   "id": "9bf12d1c",
   "metadata": {},
   "outputs": [
    {
     "name": "stdout",
     "output_type": "stream",
     "text": [
      "            Batsman  Total Runs\n",
      "0    A Ashish Reddy         280\n",
      "1        A Chandila           4\n",
      "2          A Chopra          53\n",
      "3       A Choudhary          25\n",
      "4        A Flintoff          62\n",
      "..              ...         ...\n",
      "456     YV Takawale         192\n",
      "457   Yashpal Singh          47\n",
      "458     Younis Khan           3\n",
      "459    Yuvraj Singh        2591\n",
      "460          Z Khan         117\n",
      "\n",
      "[461 rows x 2 columns]\n"
     ]
    }
   ],
   "source": [
    "# Group by 'batsman' and sum the 'batsman_runs'\n",
    "total_runs_by_batsman = data.groupby('batsman')['batsman_runs'].sum().reset_index()\n",
    "total_runs_by_batsman.columns = ['Batsman', 'Total Runs']\n",
    "print(total_runs_by_batsman)"
   ]
  },
  {
   "cell_type": "markdown",
   "id": "4434064b",
   "metadata": {},
   "source": [
    "20. How does the average number of runs scored per inning vary across different bowling teams?"
   ]
  },
  {
   "cell_type": "code",
   "execution_count": 35,
   "id": "3f0ba960",
   "metadata": {},
   "outputs": [
    {
     "name": "stdout",
     "output_type": "stream",
     "text": [
      "                   Bowling Team  Average Runs Per Inning\n",
      "0           Chennai Super Kings               149.924242\n",
      "1               Deccan Chargers               154.906667\n",
      "2              Delhi Daredevils               151.993197\n",
      "3                 Gujarat Lions               164.193548\n",
      "4               Kings XI Punjab               155.133333\n",
      "5          Kochi Tuskers Kerala               141.857143\n",
      "6         Kolkata Knight Riders               146.900000\n",
      "7                Mumbai Indians               150.854430\n",
      "8                 Pune Warriors               149.065217\n",
      "9              Rajasthan Royals               147.553719\n",
      "10       Rising Pune Supergiant               152.250000\n",
      "11      Rising Pune Supergiants               150.928571\n",
      "12  Royal Challengers Bangalore               154.392157\n",
      "13          Sunrisers Hyderabad               148.896104\n"
     ]
    }
   ],
   "source": [
    "# Group by 'match_id', 'inning', 'bowling_team' and sum the 'total_runs'\n",
    "runs_per_inning_against_team = data.groupby(['match_id', 'inning', 'bowling_team'])['total_runs'].sum().reset_index()\n",
    "\n",
    "# Calculate average runs per inning against each bowling team\n",
    "average_runs_against_team = runs_per_inning_against_team.groupby('bowling_team')['total_runs'].mean().reset_index()\n",
    "average_runs_against_team.columns = ['Bowling Team', 'Average Runs Per Inning']\n",
    "print(average_runs_against_team)"
   ]
  },
  {
   "cell_type": "markdown",
   "id": "1b36bd76",
   "metadata": {},
   "source": [
    "21. how is the relationship between the number of wides and the number of no balls bowled?"
   ]
  },
  {
   "cell_type": "code",
   "execution_count": 37,
   "id": "66fe4d55",
   "metadata": {},
   "outputs": [
    {
     "data": {
      "image/png": "[encoded data removed]",
      "text/plain": [
       "<Figure size 640x480 with 1 Axes>"
      ]
     },
     "metadata": {},
     "output_type": "display_data"
    }
   ],
   "source": [
    "# Scatter plot of wide runs vs no ball runs\n",
    "sns.scatterplot(x='wide_runs', y='noball_runs', data=data)\n",
    "plt.title('Wide Runs vs No Ball Runs')\n",
    "plt.xlabel('Wide Runs')\n",
    "plt.ylabel('No Ball Runs')\n",
    "plt.show()"
   ]
  },
  {
   "cell_type": "markdown",
   "id": "e576ed00",
   "metadata": {},
   "source": [
    "22. Which batting team has the highest number of centuries?"
   ]
  },
  {
   "cell_type": "code",
   "execution_count": 50,
   "id": "3dde5518",
   "metadata": {},
   "outputs": [
    {
     "name": "stdout",
     "output_type": "stream",
     "text": [
      "No centuries were scored.\n"
     ]
    }
   ],
   "source": [
    "# Assuming data is already loaded into DataFrame 'data'\n",
    "# Filter out rows where batsman scored 100 or more in a single inning\n",
    "centuries = data[data['batsman_runs'] >= 100]\n",
    "\n",
    "if not centuries.empty:\n",
    "    # Group by 'batting_team' and count centuries\n",
    "    centuries_by_team = centuries.groupby('batting_team')['match_id'].count().reset_index()\n",
    "    centuries_by_team.columns = ['Batting Team', 'Centuries']\n",
    "    \n",
    "    if not centuries_by_team.empty:\n",
    "        top_team_centuries = centuries_by_team.loc[centuries_by_team['Centuries'].idxmax()]\n",
    "        print(top_team_centuries)\n",
    "    else:\n",
    "        print(\"No team has scored any centuries.\")\n",
    "else:\n",
    "    print(\"No centuries were scored.\")"
   ]
  },
  {
   "cell_type": "markdown",
   "id": "2dcf6926",
   "metadata": {},
   "source": [
    "23. How does the number of wides vary with the over number?"
   ]
  },
  {
   "cell_type": "code",
   "execution_count": 39,
   "id": "86e7b8f0",
   "metadata": {},
   "outputs": [
    {
     "name": "stdout",
     "output_type": "stream",
     "text": [
      "    Over  Wide Runs\n",
      "0      1        481\n",
      "1      2        442\n",
      "2      3        359\n",
      "3      4        295\n",
      "4      5        279\n",
      "5      6        307\n",
      "6      7        330\n",
      "7      8        261\n",
      "8      9        255\n",
      "9     10        227\n",
      "10    11        182\n",
      "11    12        220\n",
      "12    13        241\n",
      "13    14        224\n",
      "14    15        248\n",
      "15    16        254\n",
      "16    17        264\n",
      "17    18        271\n",
      "18    19        264\n",
      "19    20        238\n"
     ]
    }
   ],
   "source": [
    "# Group by 'over' and sum the 'wide_runs'\n",
    "wides_by_over = data.groupby('over')['wide_runs'].sum().reset_index()\n",
    "wides_by_over.columns = ['Over', 'Wide Runs']\n",
    "print(wides_by_over)"
   ]
  },
  {
   "cell_type": "markdown",
   "id": "143ba0b9",
   "metadata": {},
   "source": [
    "24. What is the average number of runs scored per inning in matches with a super over?"
   ]
  },
  {
   "cell_type": "code",
   "execution_count": 49,
   "id": "8e5b045d",
   "metadata": {},
   "outputs": [
    {
     "name": "stdout",
     "output_type": "stream",
     "text": [
      "Average Runs Per Inning in Super Over Matches: 82.17857142857143\n"
     ]
    }
   ],
   "source": [
    "# Filter out rows where 'is_super_over' is 1\n",
    "super_over_matches = data[data['is_super_over'] == 1]['match_id'].unique()\n",
    "\n",
    "# Calculate total runs in super over matches\n",
    "runs_in_super_over_matches = data[data['match_id'].isin(super_over_matches)]\n",
    "\n",
    "# Group by 'match_id', 'inning' and sum the 'total_runs'\n",
    "runs_per_inning_super_over = runs_in_super_over_matches.groupby(['match_id', 'inning'])['total_runs'].sum().reset_index()\n",
    "\n",
    "# Calculate average runs per inning in super over matches\n",
    "average_runs_per_inning_super_over = runs_per_inning_super_over['total_runs'].mean()\n",
    "print(f'Average Runs Per Inning in Super Over Matches: {average_runs_per_inning_super_over}')"
   ]
  },
  {
   "cell_type": "markdown",
   "id": "71c4c444",
   "metadata": {},
   "source": [
    "25. How does the number of extras vary with the over number?"
   ]
  },
  {
   "cell_type": "code",
   "execution_count": 48,
   "id": "9f894f83",
   "metadata": {},
   "outputs": [
    {
     "name": "stdout",
     "output_type": "stream",
     "text": [
      "    Over  Total Extras\n",
      "0      1           768\n",
      "1      2           730\n",
      "2      3           629\n",
      "3      4           562\n",
      "4      5           495\n",
      "5      6           582\n",
      "6      7           553\n",
      "7      8           465\n",
      "8      9           459\n",
      "9     10           437\n",
      "10    11           379\n",
      "11    12           395\n",
      "12    13           451\n",
      "13    14           426\n",
      "14    15           425\n",
      "15    16           458\n",
      "16    17           548\n",
      "17    18           531\n",
      "18    19           527\n",
      "19    20           565\n"
     ]
    }
   ],
   "source": [
    "# Group by 'over' and sum the 'total_extras'\n",
    "extras_by_over = data.groupby('over')['total_extras'].sum().reset_index()\n",
    "extras_by_over.columns = ['Over', 'Total Extras']\n",
    "print(extras_by_over)"
   ]
  },
  {
   "cell_type": "markdown",
   "id": "5f621da7",
   "metadata": {},
   "source": [
    "26. Which bowler has the highest economy rate?"
   ]
  },
  {
   "cell_type": "code",
   "execution_count": 47,
   "id": "f3bc88c6",
   "metadata": {},
   "outputs": [
    {
     "name": "stdout",
     "output_type": "stream",
     "text": [
      "Bowler           I Malhotra\n",
      "Runs Conceded            23\n",
      "Balls Bowled              6\n",
      "Economy Rate           23.0\n",
      "Name: 120, dtype: object\n"
     ]
    }
   ],
   "source": [
    "# Calculate runs conceded by each bowler\n",
    "runs_conceded_by_bowler = data.groupby('bowler')['total_runs'].sum().reset_index()\n",
    "\n",
    "# Calculate balls bowled by each bowler\n",
    "balls_bowled_by_bowler = data.groupby('bowler')['ball'].count().reset_index()\n",
    "\n",
    "# Merge the dataframes\n",
    "bowler_stats = pd.merge(runs_conceded_by_bowler, balls_bowled_by_bowler, on='bowler')\n",
    "bowler_stats.columns = ['Bowler', 'Runs Conceded', 'Balls Bowled']\n",
    "\n",
    "# Calculate economy rate (runs per over)\n",
    "bowler_stats['Economy Rate'] = bowler_stats['Runs Conceded'] / (bowler_stats['Balls Bowled'] / 6)\n",
    "\n",
    "# Find the bowler with the highest economy rate\n",
    "highest_economy_bowler = bowler_stats.loc[bowler_stats['Economy Rate'].idxmax()]\n",
    "print(highest_economy_bowler)"
   ]
  },
  {
   "cell_type": "markdown",
   "id": "4c4aabf3",
   "metadata": {},
   "source": [
    "27. How does the number of dismissals vary across different dismissal kinds?"
   ]
  },
  {
   "cell_type": "code",
   "execution_count": 43,
   "id": "7e0fbfbe",
   "metadata": {},
   "outputs": [
    {
     "name": "stdout",
     "output_type": "stream",
     "text": [
      "          Dismissal Kind  Count\n",
      "0                 caught   4373\n",
      "1                 bowled   1382\n",
      "2                run out    755\n",
      "3                    lbw    455\n",
      "4                stumped    243\n",
      "5      caught and bowled    211\n",
      "6           retired hurt      9\n",
      "7             hit wicket      9\n",
      "8  obstructing the field      1\n"
     ]
    }
   ],
   "source": [
    "# Count occurrences of each dismissal kind\n",
    "dismissal_variation = dismissals['dismissal_kind'].value_counts().reset_index()\n",
    "dismissal_variation.columns = ['Dismissal Kind', 'Count']\n",
    "print(dismissal_variation)"
   ]
  },
  {
   "cell_type": "markdown",
   "id": "b6efcf0c",
   "metadata": {},
   "source": [
    "28. What is the distribution of runs scored by each batting team in super overs?"
   ]
  },
  {
   "cell_type": "code",
   "execution_count": 46,
   "id": "c79f5ea5",
   "metadata": {},
   "outputs": [
    {
     "name": "stdout",
     "output_type": "stream",
     "text": [
      "                  Batting Team  Total Runs\n",
      "0          Chennai Super Kings           9\n",
      "1             Delhi Daredevils          11\n",
      "2                Gujarat Lions           6\n",
      "3              Kings XI Punjab          25\n",
      "4        Kolkata Knight Riders          26\n",
      "5               Mumbai Indians          11\n",
      "6             Rajasthan Royals          35\n",
      "7  Royal Challengers Bangalore          30\n",
      "8          Sunrisers Hyderabad          20\n"
     ]
    }
   ],
   "source": [
    "# Filter out rows where 'is_super_over' is 1\n",
    "super_over_runs = data[data['is_super_over'] == 1]\n",
    "\n",
    "# Group by 'batting_team' and sum the 'total_runs'\n",
    "super_over_runs_by_team = super_over_runs.groupby('batting_team')['total_runs'].sum().reset_index()\n",
    "super_over_runs_by_team.columns = ['Batting Team', 'Total Runs']\n",
    "print(super_over_runs_by_team)"
   ]
  },
  {
   "cell_type": "code",
   "execution_count": null,
   "id": "791a810e",
   "metadata": {},
   "outputs": [],
   "source": []
  }
 ],
 "metadata": {
  "kernelspec": {
   "display_name": "Python 3 (ipykernel)",
   "language": "python",
   "name": "python3"
  },
  "language_info": {
   "codemirror_mode": {
    "name": "ipython",
    "version": 3
   },
   "file_extension": ".py",
   "mimetype": "text/x-python",
   "name": "python",
   "nbconvert_exporter": "python",
   "pygments_lexer": "ipython3",
   "version": "3.11.5"
  }
 },
 "nbformat": 4,
 "nbformat_minor": 5
}
